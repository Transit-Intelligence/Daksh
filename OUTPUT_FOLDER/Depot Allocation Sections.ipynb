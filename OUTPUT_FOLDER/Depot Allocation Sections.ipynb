{
 "cells": [
  {
   "cell_type": "code",
   "execution_count": 1,
   "id": "49a7a5ae",
   "metadata": {
    "execution": {
     "iopub.execute_input": "2024-10-24T12:19:36.023879Z",
     "iopub.status.busy": "2024-10-24T12:19:36.023879Z",
     "iopub.status.idle": "2024-10-24T12:19:38.354650Z",
     "shell.execute_reply": "2024-10-24T12:19:38.354650Z"
    }
   },
   "outputs": [],
   "source": [
    "import pandas as pd\n",
    "\n",
    "# Load data from the Excel file\n",
    "df = pd.read_excel('depot_route_time_matrix.xlsx')\n",
    "\n",
    "# Separate the number of buses required per route (last row)\n",
    "buses_required = df.iloc[-1, 1:-1]  # Exclude 'Depot' and 'Capacity' columns\n",
    "buses_required.index = df.columns[1:-1]  # Set the route names as the index\n",
    "\n",
    "# Remove the last row (buses required) from the main data frame\n",
    "df = df.iloc[:-1, :]\n",
    "\n",
    "# Extract depot capacities (last column)\n",
    "depot_capacity_df = df[['Depot', 'Capacity']].set_index('Depot')\n",
    "\n",
    "# Extract route names (all columns except 'Depot' and 'Capacity')\n",
    "route_columns = [col for col in df.columns if col not in ['Depot', 'Capacity']]\n",
    "\n",
    "# Function to allocate buses\n",
    "def allocate_buses(route_list, buses_required):\n",
    "    allocation = []\n",
    "\n",
    "    for route in route_list:\n",
    "        # Get the number of buses required for this route\n",
    "        buses_per_route = buses_required[route]\n",
    "\n",
    "        # Get the depots sorted by time for this route\n",
    "        depots_for_route = df[['Depot', route, 'Capacity']].sort_values(route)\n",
    "\n",
    "        buses_allocated = 0\n",
    "        for index, depot in depots_for_route.iterrows():\n",
    "            depot_name = depot['Depot']\n",
    "            available_capacity = depot_capacity_df.loc[depot_name, 'Capacity']\n",
    "\n",
    "            if available_capacity > 0:\n",
    "                buses_to_allocate = min(available_capacity, buses_per_route - buses_allocated)\n",
    "\n",
    "                if buses_to_allocate > 0:\n",
    "                    # Update depot capacity\n",
    "                    depot_capacity_df.loc[depot_name, 'Capacity'] -= buses_to_allocate\n",
    "\n",
    "                    # Record allocation\n",
    "                    allocation.append({'Route': route, 'Depot': depot_name, 'Buses Allocated': buses_to_allocate})\n",
    "                    buses_allocated += buses_to_allocate\n",
    "\n",
    "                # Stop if we have allocated all buses for the route\n",
    "                if buses_allocated == buses_per_route:\n",
    "                    break\n",
    "\n",
    "        if buses_allocated < buses_per_route:\n",
    "            print(f\"Warning: Could not allocate all buses for route {route}\")\n",
    "\n",
    "    return pd.DataFrame(allocation)\n",
    "\n",
    "# Example usage\n",
    "route_list = route_columns  # Get the list of routes\n",
    "allocation_df = allocate_buses(route_list, buses_required)\n",
    "\n",
    "# Save the result to a new Excel file\n",
    "allocation_df.to_excel('Depot_Route_Bus_Allocation_Results.xlsx', index=False)\n",
    "# print(\"Bus allocation completed and saved to 'bus_allocation_results.xlsx'\")\n"
   ]
  },
  {
   "cell_type": "code",
   "execution_count": null,
   "id": "79aeb709",
   "metadata": {},
   "outputs": [],
   "source": []
  }
 ],
 "metadata": {
  "kernelspec": {
   "display_name": "Python 3 (ipykernel)",
   "language": "python",
   "name": "python3"
  },
  "language_info": {
   "codemirror_mode": {
    "name": "ipython",
    "version": 3
   },
   "file_extension": ".py",
   "mimetype": "text/x-python",
   "name": "python",
   "nbconvert_exporter": "python",
   "pygments_lexer": "ipython3",
   "version": "3.12.4"
  }
 },
 "nbformat": 4,
 "nbformat_minor": 5
}
